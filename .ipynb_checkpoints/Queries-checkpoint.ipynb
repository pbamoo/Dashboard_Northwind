{
 "cells": [
  {
   "cell_type": "markdown",
   "metadata": {},
   "source": [
    "## Project: Dashboard (Analyze The Northwind Dataset)\n",
    "\n",
    "#### Workflow\n",
    "1. create a Postgres database\n",
    "2. Download the data from GitHub.\n",
    "3. create the table definitions\n",
    "4. use the SQL COPY command to load the CSV files into the database\n",
    "5. write SQL queries to retrieve data by answering the questions below\n",
    "6.   load CSV files into a database\n",
    "7.  use the sqlalchemy library to access a db from Python\n",
    "8. build a dashboard\n",
    "9.   upload everything into a cloud server"
   ]
  },
  {
   "cell_type": "markdown",
   "metadata": {},
   "source": [
    "### Step 5 - SQL queries"
   ]
  },
  {
   "cell_type": "code",
   "execution_count": null,
   "metadata": {},
   "outputs": [],
   "source": [
    "#1. Get the names and the quantities in stock for each product.\n",
    "SELECT productName, quantityPerUnit \n",
    "FROM Products;"
   ]
  },
  {
   "cell_type": "code",
   "execution_count": null,
   "metadata": {},
   "outputs": [],
   "source": [
    "#2. Get a list of current products (Product ID and name).\n",
    "\n",
    "#(Method 1)\n",
    "SELECT ProductID, ProductName \n",
    "FROM Products WHERE Discontinued = False; \n",
    "\n",
    "#(Method 2)\n",
    "SELECT ProductID, ProductName \n",
    "FROM Products WHERE Discontinued = 0; "
   ]
  },
  {
   "cell_type": "code",
   "execution_count": null,
   "metadata": {},
   "outputs": [],
   "source": [
    "#3. Get a list of the most and least expensive products (name and unit price).\n",
    "SELECT productName, unitPrice FROM products ORDER BY unitPrice DESC;\n",
    "SELECT productName, unitPrice FROM products WHERE unitPrice > 200 OR unitPrice < 3 ORDER BY unitPrice DESC;\n",
    "SELECT MAX(UnitPrice), MIN(UnitPrice) FROM Products;"
   ]
  },
  {
   "cell_type": "code",
   "execution_count": null,
   "metadata": {},
   "outputs": [],
   "source": [
    "#4. Get products that cost less than $20.\n",
    "\n",
    "#(Method 1)\n",
    "SELECT productID, productName, unitPrice \n",
    "FROM products WHERE unitPrice<20\n",
    "\n",
    "#(Method 2)\n",
    "SELECT ProductID, ProductName, UnitPrice \n",
    "FROM Products WHERE (((UnitPrice)<20) AND ((Discontinued)=False)) \n",
    "ORDER BY UnitPrice DESC;"
   ]
  },
  {
   "cell_type": "code",
   "execution_count": null,
   "metadata": {},
   "outputs": [],
   "source": [
    "#5. Get products that cost between $15 and $25.\n",
    "\n",
    "#(Method 1)\n",
    "SELECT ProductID, ProductName, UnitPrice \n",
    "FROM Products WHERE UnitPrice >=15 AND UnitPrice <=25 \n",
    "ORDER BY UnitPrice DESC; \n",
    "\n",
    "#(Method 2)\n",
    "SELECT ProductID, ProductName, UnitPrice \n",
    "FROM Products WHERE UnitPrice >=15 AND UnitPrice <=25  AND Discontinued=0 \n",
    "ORDER BY UnitPrice DESC;"
   ]
  },
  {
   "cell_type": "code",
   "execution_count": null,
   "metadata": {},
   "outputs": [],
   "source": [
    "#6. Get products above average price.\n",
    "\n",
    "SELECT productName, unitPrice \n",
    "FROM products WHERE UnitPrice > (SELECT avg(UnitPrice) FROM Products) \n",
    "ORDER BY unitPrice DESC;"
   ]
  },
  {
   "cell_type": "code",
   "execution_count": null,
   "metadata": {},
   "outputs": [],
   "source": [
    "#7. Find the ten most expensive products.\n",
    "\n",
    "#(Method 1)\n",
    "SELECT productName, unitPrice \n",
    "FROM products \n",
    "ORDER BY unitPrice DESC LIMIT 10; \n",
    "\n",
    "#(Method 2)\n",
    "SELECT DISTINCT ProductName as Ten_Most_Expensive_Products, unitPrice \n",
    "FROM products \n",
    "ORDER BY unitPrice DESC LIMIT 10; "
   ]
  },
  {
   "cell_type": "code",
   "execution_count": null,
   "metadata": {},
   "outputs": [],
   "source": [
    "#8. Get a list of discontinued products (Product ID and name).\n",
    "SELECT ProductID, ProductName \n",
    "FROM Products WHERE Discontinued = 1;"
   ]
  },
  {
   "cell_type": "code",
   "execution_count": null,
   "metadata": {},
   "outputs": [],
   "source": [
    "#9. Count current and discontinued products.\n",
    "SELECT Count(productID) \n",
    "FROM products GROUP BY Discontinued;"
   ]
  },
  {
   "cell_type": "code",
   "execution_count": null,
   "metadata": {},
   "outputs": [],
   "source": [
    "#10. Find products with less units in stock than the quantity on order.\n",
    "\n",
    "#(Method 1)\n",
    "SELECT productName,  unitsOnOrder, UnitsInStock \n",
    "FROM products WHERE unitsInStock < unitsOnOrder; \n",
    "\n",
    "#(Method 2)\n",
    "SELECT productName,  unitsOnOrder, UnitsInStock \n",
    "FROM products WHERE unitsInStock < unitsOnOrder AND discontinued=0; "
   ]
  },
  {
   "cell_type": "code",
   "execution_count": null,
   "metadata": {},
   "outputs": [],
   "source": [
    "#11. Find the customer who had the highest order amount\n",
    "SELECT customer_id, COUNT(*) \n",
    "FROM orders GROUP BY customer_id \n",
    "ORDER BY orders DESC LIMIT 1;"
   ]
  },
  {
   "cell_type": "code",
   "execution_count": null,
   "metadata": {},
   "outputs": [],
   "source": [
    "#12. Get orders for a given employee and the according customer\n",
    "SELECT employees.lastname, customers.companyname, orders.orderid\n",
    "FROM orders JOIN employees ON orders.employeeid = employees.employeeid\n",
    "JOIN customers ON orders.customerid = customers.customerid ORDER BY lastname, companyname;"
   ]
  },
  {
   "cell_type": "code",
   "execution_count": null,
   "metadata": {},
   "outputs": [],
   "source": [
    "#13. Find the hiring age of each employee\n",
    "\n",
    "#(1. gives answer in days)\n",
    "SELECT CONCAT(titleOfCourtesy, lastName, ' ', firstName) AS fullName,  hireDate - birthDate as hiringAGE FROM employees; \n",
    "\n",
    "#(2. gives answer in y,m,d)\n",
    "select CONCAT(titleOfCourtesy, lastName, ' ', firstName) AS fullName, age(hiredate, birthdate) from employees; \n",
    "\n",
    "#(Method 3)\n",
    "select CONCAT(titleOfCourtesy, lastName, ' ', firstName) AS fullName, extract(year from age(hiredate, birthdate)) as hireage from employees; "
   ]
  },
  {
   "cell_type": "code",
   "execution_count": null,
   "metadata": {},
   "outputs": [],
   "source": [
    "#14. Calculate employee revenue\n",
    "SELECT e.firstName, e.lastName, SUM(od.unit_price*od.quantity) AS revenue \n",
    "FROM orders As o JOIN employees AS e ON o.employeeID=e.employeeID\n",
    "JOIN order_details AS od ON o.orderID=od.orderID GROUP BY e.firstName, e.lastName \n",
    "ORDER BY revenue DESC;"
   ]
  },
  {
   "cell_type": "code",
   "execution_count": null,
   "metadata": {},
   "outputs": [],
   "source": [
    "#15. Create a view of all the relevant columns from all the tables\n",
    "CREATE VIEW all_data AS\n",
    "    (SELECT categories.category_id, categories.category_name,\n",
    "        products.product_id, products.product_name,products.unit_price,\n",
    "        order_details.order_id, order_details.quantity,\n",
    "        orders.customer_id, orders.order_date, orders.ship_country, orders.ship_city,\n",
    "        customers.city, customers.country\n",
    "    FROM categories\n",
    "    JOIN products on products.category_id = categories.category_id\n",
    "    JOIN order_details on order_details.product_id = products.product_id\n",
    "    JOIN orders on orders.order_id = order_details.order_id\n",
    "    JOIN customers on customers.customer_id = orders.customer_id);"
   ]
  },
  {
   "cell_type": "code",
   "execution_count": null,
   "metadata": {},
   "outputs": [],
   "source": [
    "#16. Mark products as expensive of inexpensive\n",
    "SELECT product_id,\n",
    "CASE\n",
    "    WHEN unit_price > 150 THEN 'expensive'\n",
    "    ELSE 'inexpensive' END\n",
    "FROM order_details;"
   ]
  },
  {
   "cell_type": "code",
   "execution_count": null,
   "metadata": {},
   "outputs": [],
   "source": [
    "#17. Calculate the average order value per country\n",
    "SELECT\n",
    "    AVG(order_details.product_id * order_details.unit_price - order_details.discount) AS order_value,\n",
    "    orders.ship_country\n",
    "FROM order_details\n",
    "JOIN orders on orders.order_id = order_details.order_id\n",
    "GROUP BY orders.ship_country\n",
    "ORDER BY order_value DESC;"
   ]
  },
  {
   "cell_type": "code",
   "execution_count": null,
   "metadata": {},
   "outputs": [],
   "source": [
    "#18. Calculate the average order value by date\n",
    "SELECT\n",
    "    AVG(order_details.product_id * order_details.unit_price - order_details.discount) AS order_value,\n",
    "    orders.order_date\n",
    "FROM order_details\n",
    "JOIN orders on orders.order_id = order_details.order_id\n",
    "GROUP BY orders.order_date\n",
    "ORDER BY order_value DESC;"
   ]
  }
 ],
 "metadata": {
  "kernelspec": {
   "display_name": "Python 3",
   "language": "python",
   "name": "python3"
  },
  "language_info": {
   "codemirror_mode": {
    "name": "ipython",
    "version": 3
   },
   "file_extension": ".py",
   "mimetype": "text/x-python",
   "name": "python",
   "nbconvert_exporter": "python",
   "pygments_lexer": "ipython3",
   "version": "3.7.6"
  }
 },
 "nbformat": 4,
 "nbformat_minor": 4
}
